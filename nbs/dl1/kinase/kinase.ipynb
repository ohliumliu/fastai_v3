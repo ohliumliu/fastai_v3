{
 "cells": [
  {
   "cell_type": "code",
   "execution_count": 1,
   "metadata": {},
   "outputs": [],
   "source": [
    "from fastai.collab import *\n",
    "from fastai.tabular import *\n",
    "import numpy as np\n",
    "import matplotlib.pylab as plt\n",
    "from scipy import stats"
   ]
  },
  {
   "cell_type": "code",
   "execution_count": 2,
   "metadata": {},
   "outputs": [],
   "source": [
    "def get_data(path, standard_type = 'KD', transformation = None):\n",
    "    df_all = pd.read_csv(path, usecols=['compound_id', 'target_id',\n",
    "                                        'standard_type', 'standard_relation', 'standard_value', 'standard_units'])\n",
    "    df_filtered = df_all[df_all.standard_value!=0].copy()\n",
    "    df_filtered = df_filtered[(df_all.standard_type==standard_type) & \n",
    "                  (df_all.standard_relation=='=')].dropna().copy()\n",
    "    df_filtered = df_filtered[~df_filtered.target_id.str.contains(',')]\n",
    "    if transformation == None:\n",
    "        target_name = standard_type\n",
    "        df_filtered[target_nanme] = df_filtered['standard_value']\n",
    "    else:\n",
    "        target_name = standard_type + transformation.__name__\n",
    "        df_filtered[target_name] = transformation(df_filtered['standard_value'])\n",
    "    \n",
    "    return df_filtered, target_name"
   ]
  },
  {
   "cell_type": "code",
   "execution_count": 235,
   "metadata": {},
   "outputs": [],
   "source": [
    "def plot_preds(pred, target, target_name='target'):\n",
    "    # plot a comparison between prediction and actual result\n",
    "    fig, ax = plt.subplots(1, 2)\n",
    "    axis_min = np.min([np.array(pred).flatten().min(), np.array(target).flatten().min()])\n",
    "    axis_max = np.max([np.array(pred).flatten().max(), np.array(target).flatten().max()])\n",
    "    ax[0].scatter(pred, target, alpha=0.02)\n",
    "    ax[0].set_xlim([axis_min, axis_max])\n",
    "    ax[0].set_xlabel(target_name + ' prediction')\n",
    "    ax[0].set_ylim([axis_min, axis_max])\n",
    "    ax[0].set_ylabel(target_name + ' actual')\n",
    "    ax[0].set_aspect('equal')\n",
    "    slope, intercept, r_value, p_value, std_err = stats.linregress(pred, target.flatten())\n",
    "    ax[0].set_title(\"r_squared: {}\".format(r_value**2) + \"slope: {}\".format(slope))\n",
    "    ax[1].hist(pred/target, np.linspace(-2, 2, 100))\n",
    "    ax[1].set_title('Histogram of prediction/target')"
   ]
  },
  {
   "cell_type": "code",
   "execution_count": 3,
   "metadata": {},
   "outputs": [],
   "source": [
    "path = Path('/home/jupyter/.fastai/data/kinase/DTC_data.csv')"
   ]
  },
  {
   "cell_type": "code",
   "execution_count": 32,
   "metadata": {},
   "outputs": [
    {
     "data": {
      "text/plain": [
       "Index(['compound_id', 'standard_inchi_key', 'compound_name', 'synonym',\n",
       "       'target_id', 'target_pref_name', 'gene_names', 'wildtype_or_mutant',\n",
       "       'mutation_info', 'pubmed_id', 'standard_type', 'standard_relation',\n",
       "       'standard_value', 'standard_units', 'activity_comment',\n",
       "       'ep_action_mode', 'assay_format', 'assaytype', 'assay_subtype',\n",
       "       'inhibitor_type', 'detection_tech', 'assay_cell_line',\n",
       "       'compound_concentration_value', 'compound_concentration_value_unit',\n",
       "       'substrate_type', 'substrate_relation', 'substrate_value',\n",
       "       'substrate_units', 'assay_description', 'title', 'journal', 'doc_type',\n",
       "       'annotation_comments'],\n",
       "      dtype='object')"
      ]
     },
     "execution_count": 32,
     "metadata": {},
     "output_type": "execute_result"
    }
   ],
   "source": [
    "columns = df_DTC.columns; columns"
   ]
  },
  {
   "cell_type": "code",
   "execution_count": 4,
   "metadata": {},
   "outputs": [
    {
     "name": "stderr",
     "output_type": "stream",
     "text": [
      "/opt/anaconda3/lib/python3.7/site-packages/IPython/core/interactiveshell.py:3185: DtypeWarning: Columns (0) have mixed types. Specify dtype option on import or set low_memory=False.\n",
      "  if (yield from self.run_code(code, result)):\n",
      "/opt/anaconda3/lib/python3.7/site-packages/ipykernel_launcher.py:6: UserWarning: Boolean Series key will be reindexed to match DataFrame index.\n",
      "  \n"
     ]
    }
   ],
   "source": [
    "df_Kd, target_name = get_data(path, standard_type='KD', transformation=np.log)"
   ]
  },
  {
   "cell_type": "code",
   "execution_count": 175,
   "metadata": {},
   "outputs": [
    {
     "data": {
      "text/html": [
       "<div>\n",
       "<style scoped>\n",
       "    .dataframe tbody tr th:only-of-type {\n",
       "        vertical-align: middle;\n",
       "    }\n",
       "\n",
       "    .dataframe tbody tr th {\n",
       "        vertical-align: top;\n",
       "    }\n",
       "\n",
       "    .dataframe thead th {\n",
       "        text-align: right;\n",
       "    }\n",
       "</style>\n",
       "<table border=\"1\" class=\"dataframe\">\n",
       "  <thead>\n",
       "    <tr style=\"text-align: right;\">\n",
       "      <th></th>\n",
       "      <th>compound_id</th>\n",
       "      <th>target_id</th>\n",
       "      <th>standard_type</th>\n",
       "      <th>standard_relation</th>\n",
       "      <th>standard_value</th>\n",
       "      <th>standard_units</th>\n",
       "      <th>KDlog</th>\n",
       "    </tr>\n",
       "  </thead>\n",
       "  <tbody>\n",
       "    <tr>\n",
       "      <th>5932528</th>\n",
       "      <td>CHEMBL3545051</td>\n",
       "      <td>P36888</td>\n",
       "      <td>KD</td>\n",
       "      <td>=</td>\n",
       "      <td>74.0</td>\n",
       "      <td>NM</td>\n",
       "      <td>4.304065</td>\n",
       "    </tr>\n",
       "    <tr>\n",
       "      <th>5959350</th>\n",
       "      <td>CHEMBL3545051</td>\n",
       "      <td>P10721</td>\n",
       "      <td>KD</td>\n",
       "      <td>=</td>\n",
       "      <td>280.0</td>\n",
       "      <td>NM</td>\n",
       "      <td>5.634790</td>\n",
       "    </tr>\n",
       "    <tr>\n",
       "      <th>5971861</th>\n",
       "      <td>CHEMBL3545051</td>\n",
       "      <td>P00533</td>\n",
       "      <td>KD</td>\n",
       "      <td>=</td>\n",
       "      <td>140.0</td>\n",
       "      <td>NM</td>\n",
       "      <td>4.941642</td>\n",
       "    </tr>\n",
       "    <tr>\n",
       "      <th>5971862</th>\n",
       "      <td>CHEMBL3545051</td>\n",
       "      <td>P00533</td>\n",
       "      <td>KD</td>\n",
       "      <td>=</td>\n",
       "      <td>25.0</td>\n",
       "      <td>NM</td>\n",
       "      <td>3.218876</td>\n",
       "    </tr>\n",
       "    <tr>\n",
       "      <th>5977267</th>\n",
       "      <td>CHEMBL3545267</td>\n",
       "      <td>O35904</td>\n",
       "      <td>KD</td>\n",
       "      <td>=</td>\n",
       "      <td>6.2</td>\n",
       "      <td>NM</td>\n",
       "      <td>1.824549</td>\n",
       "    </tr>\n",
       "  </tbody>\n",
       "</table>\n",
       "</div>"
      ],
      "text/plain": [
       "           compound_id target_id standard_type standard_relation  \\\n",
       "5932528  CHEMBL3545051    P36888            KD                 =   \n",
       "5959350  CHEMBL3545051    P10721            KD                 =   \n",
       "5971861  CHEMBL3545051    P00533            KD                 =   \n",
       "5971862  CHEMBL3545051    P00533            KD                 =   \n",
       "5977267  CHEMBL3545267    O35904            KD                 =   \n",
       "\n",
       "         standard_value standard_units     KDlog  \n",
       "5932528            74.0             NM  4.304065  \n",
       "5959350           280.0             NM  5.634790  \n",
       "5971861           140.0             NM  4.941642  \n",
       "5971862            25.0             NM  3.218876  \n",
       "5977267             6.2             NM  1.824549  "
      ]
     },
     "execution_count": 175,
     "metadata": {},
     "output_type": "execute_result"
    }
   ],
   "source": [
    "df_Kd.tail()"
   ]
  },
  {
   "cell_type": "code",
   "execution_count": 123,
   "metadata": {},
   "outputs": [
    {
     "data": {
      "text/plain": [
       "(32625, 7)"
      ]
     },
     "execution_count": 123,
     "metadata": {},
     "output_type": "execute_result"
    }
   ],
   "source": [
    "df_Kd.shape"
   ]
  },
  {
   "cell_type": "code",
   "execution_count": 179,
   "metadata": {},
   "outputs": [],
   "source": [
    "df_Kd_train = df_Kd.iloc[:26000, :].copy()\n",
    "df_Kd_test = df_Kd.iloc[26001:, :].copy()"
   ]
  },
  {
   "cell_type": "markdown",
   "metadata": {},
   "source": [
    "# Generate data"
   ]
  },
  {
   "cell_type": "code",
   "execution_count": 224,
   "metadata": {},
   "outputs": [],
   "source": [
    "Kd_data = CollabDataBunch.from_df(df_Kd, user_name='compound_id',\n",
    "                                         item_name='target_id',\n",
    "                                         rating_name=target_name, \n",
    "                                         test=df_Kd_test,\n",
    "                                         pct_val=0.2,\n",
    "                                         seed=40)"
   ]
  },
  {
   "cell_type": "code",
   "execution_count": 209,
   "metadata": {
    "scrolled": true
   },
   "outputs": [
    {
     "data": {
      "text/html": [
       "<table>  <col width='10%'>  <col width='10%'>  <col width='10%'>  <tr>\n",
       "    <th>compound_id</th>\n",
       "    <th>target_id</th>\n",
       "    <th>target</th>\n",
       "  </tr>\n",
       "  <tr>\n",
       "    <th>CHEMBL705</th>\n",
       "    <th>P48443</th>\n",
       "    <th>3.4011974334716797</th>\n",
       "  </tr>\n",
       "  <tr>\n",
       "    <th>CHEMBL553</th>\n",
       "    <th>Q15303</th>\n",
       "    <th>5.438079357147217</th>\n",
       "  </tr>\n",
       "  <tr>\n",
       "    <th>CHEMBL3651162</th>\n",
       "    <th>Q63844</th>\n",
       "    <th>-0.5447271466255188</th>\n",
       "  </tr>\n",
       "  <tr>\n",
       "    <th>CHEMBL318267</th>\n",
       "    <th>P11473</th>\n",
       "    <th>-2.617295742034912</th>\n",
       "  </tr>\n",
       "  <tr>\n",
       "    <th>CHEMBL180022</th>\n",
       "    <th>O00506</th>\n",
       "    <th>2.4849066734313965</th>\n",
       "  </tr>\n",
       "</table>\n"
      ],
      "text/plain": [
       "<IPython.core.display.HTML object>"
      ]
     },
     "metadata": {},
     "output_type": "display_data"
    }
   ],
   "source": [
    "Kd_data.show_batch()"
   ]
  },
  {
   "cell_type": "markdown",
   "metadata": {},
   "source": [
    "# Model using embedding"
   ]
  },
  {
   "cell_type": "code",
   "execution_count": 261,
   "metadata": {},
   "outputs": [],
   "source": [
    "Kd_learn = collab_learner(Kd_data, n_factors=80, y_range=[-20, 30])"
   ]
  },
  {
   "cell_type": "code",
   "execution_count": 262,
   "metadata": {},
   "outputs": [
    {
     "name": "stdout",
     "output_type": "stream",
     "text": [
      "LR Finder is complete, type {learner_name}.recorder.plot() to see the graph.\n"
     ]
    }
   ],
   "source": [
    "Kd_learn.lr_find()"
   ]
  },
  {
   "cell_type": "code",
   "execution_count": 263,
   "metadata": {},
   "outputs": [
    {
     "data": {
      "image/png": "[encoded data removed]",
      "text/plain": [
       "<Figure size 432x288 with 1 Axes>"
      ]
     },
     "metadata": {
      "needs_background": "light"
     },
     "output_type": "display_data"
    }
   ],
   "source": [
    "Kd_learn.recorder.plot()"
   ]
  },
  {
   "cell_type": "code",
   "execution_count": 264,
   "metadata": {},
   "outputs": [
    {
     "data": {
      "text/html": [
       "Total time: 00:24 <p><table style='width:300px; margin-bottom:10px'>\n",
       "  <tr>\n",
       "    <th>epoch</th>\n",
       "    <th>train_loss</th>\n",
       "    <th>valid_loss</th>\n",
       "  </tr>\n",
       "  <tr>\n",
       "    <th>1</th>\n",
       "    <th>8.444118</th>\n",
       "    <th>7.037127</th>\n",
       "  </tr>\n",
       "  <tr>\n",
       "    <th>2</th>\n",
       "    <th>5.480916</th>\n",
       "    <th>6.726082</th>\n",
       "  </tr>\n",
       "  <tr>\n",
       "    <th>3</th>\n",
       "    <th>6.524120</th>\n",
       "    <th>8.413202</th>\n",
       "  </tr>\n",
       "  <tr>\n",
       "    <th>4</th>\n",
       "    <th>7.418047</th>\n",
       "    <th>8.576646</th>\n",
       "  </tr>\n",
       "  <tr>\n",
       "    <th>5</th>\n",
       "    <th>6.769726</th>\n",
       "    <th>7.588824</th>\n",
       "  </tr>\n",
       "  <tr>\n",
       "    <th>6</th>\n",
       "    <th>4.976614</th>\n",
       "    <th>6.553951</th>\n",
       "  </tr>\n",
       "  <tr>\n",
       "    <th>7</th>\n",
       "    <th>3.431742</th>\n",
       "    <th>5.692361</th>\n",
       "  </tr>\n",
       "  <tr>\n",
       "    <th>8</th>\n",
       "    <th>1.952454</th>\n",
       "    <th>5.189661</th>\n",
       "  </tr>\n",
       "  <tr>\n",
       "    <th>9</th>\n",
       "    <th>1.092429</th>\n",
       "    <th>5.057140</th>\n",
       "  </tr>\n",
       "  <tr>\n",
       "    <th>10</th>\n",
       "    <th>0.713315</th>\n",
       "    <th>5.051238</th>\n",
       "  </tr>\n",
       "</table>\n"
      ],
      "text/plain": [
       "<IPython.core.display.HTML object>"
      ]
     },
     "metadata": {},
     "output_type": "display_data"
    }
   ],
   "source": [
    "Kd_learn.fit_one_cycle(10, 1e-2)"
   ]
  },
  {
   "cell_type": "code",
   "execution_count": 265,
   "metadata": {},
   "outputs": [
    {
     "data": {
      "image/png": "[encoded data removed]",
      "text/plain": [
       "<Figure size 432x288 with 1 Axes>"
      ]
     },
     "metadata": {
      "needs_background": "light"
     },
     "output_type": "display_data"
    }
   ],
   "source": [
    "Kd_learn.recorder.plot_losses()"
   ]
  },
  {
   "cell_type": "code",
   "execution_count": 266,
   "metadata": {},
   "outputs": [
    {
     "data": {
      "text/html": [
       "<table>  <col width='10%'>  <col width='10%'>  <col width='10%'>  <col width='10%'>  <tr>\n",
       "    <th>compound_id</th>\n",
       "    <th>target_id</th>\n",
       "    <th>target</th>\n",
       "    <th>prediction</th>\n",
       "  </tr>\n",
       "  <tr>\n",
       "    <th>CHEMBL2024149</th>\n",
       "    <th>P0DMS8</th>\n",
       "    <th>-0.8278220891952515</th>\n",
       "    <th>4.628704071044922</th>\n",
       "  </tr>\n",
       "  <tr>\n",
       "    <th>CHEMBL1544</th>\n",
       "    <th>P10827</th>\n",
       "    <th>-2.8473122119903564</th>\n",
       "    <th>-2.2704429626464844</th>\n",
       "  </tr>\n",
       "  <tr>\n",
       "    <th>CHEMBL265556</th>\n",
       "    <th>P30968</th>\n",
       "    <th>0.0</th>\n",
       "    <th>0.2128925323486328</th>\n",
       "  </tr>\n",
       "  <tr>\n",
       "    <th>CHEMBL1721885</th>\n",
       "    <th>Q9Y4K4</th>\n",
       "    <th>5.703782558441162</th>\n",
       "    <th>5.246784210205078</th>\n",
       "  </tr>\n",
       "  <tr>\n",
       "    <th>CHEMBL522892</th>\n",
       "    <th>Q16513</th>\n",
       "    <th>9.200289726257324</th>\n",
       "    <th>9.470760345458984</th>\n",
       "  </tr>\n",
       "  <tr>\n",
       "    <th>CHEMBL3311525</th>\n",
       "    <th>O00214</th>\n",
       "    <th>12.506176948547363</th>\n",
       "    <th>13.34164810180664</th>\n",
       "  </tr>\n",
       "  <tr>\n",
       "    <th>CHEMBL348228</th>\n",
       "    <th>P47811</th>\n",
       "    <th>0.6418538689613342</th>\n",
       "    <th>0.8620834350585938</th>\n",
       "  </tr>\n",
       "  <tr>\n",
       "    <th>CHEMBL535</th>\n",
       "    <th>Q86UE8</th>\n",
       "    <th>5.799092769622803</th>\n",
       "    <th>5.248563766479492</th>\n",
       "  </tr>\n",
       "  <tr>\n",
       "    <th>CHEMBL522892</th>\n",
       "    <th>O14757</th>\n",
       "    <th>7.090076923370361</th>\n",
       "    <th>7.156383514404297</th>\n",
       "  </tr>\n",
       "  <tr>\n",
       "    <th>CHEMBL381421</th>\n",
       "    <th>P15056</th>\n",
       "    <th>4.465908050537109</th>\n",
       "    <th>5.212276458740234</th>\n",
       "  </tr>\n",
       "</table>\n"
      ],
      "text/plain": [
       "<IPython.core.display.HTML object>"
      ]
     },
     "metadata": {},
     "output_type": "display_data"
    }
   ],
   "source": [
    "Kd_learn.show_results(rows=10)"
   ]
  },
  {
   "cell_type": "code",
   "execution_count": 267,
   "metadata": {},
   "outputs": [],
   "source": [
    "Kd_preds = Kd_learn.get_preds(ds_type=DatasetType.Valid)"
   ]
  },
  {
   "cell_type": "code",
   "execution_count": 268,
   "metadata": {},
   "outputs": [
    {
     "data": {
      "image/png": "[encoded data removed]",
      "text/plain": [
       "<Figure size 432x288 with 2 Axes>"
      ]
     },
     "metadata": {
      "needs_background": "light"
     },
     "output_type": "display_data"
    }
   ],
   "source": [
    "plot_preds(Kd_preds[0], Kd_preds[1], target_name)"
   ]
  },
  {
   "cell_type": "code",
   "execution_count": 237,
   "metadata": {},
   "outputs": [],
   "source": [
    "test_df = pd.DataFrame(list(Kd_learn.data.valid_ds.x), columns = ['name'])"
   ]
  },
  {
   "cell_type": "code",
   "execution_count": 248,
   "metadata": {},
   "outputs": [
    {
     "data": {
      "text/html": [
       "<div>\n",
       "<style scoped>\n",
       "    .dataframe tbody tr th:only-of-type {\n",
       "        vertical-align: middle;\n",
       "    }\n",
       "\n",
       "    .dataframe tbody tr th {\n",
       "        vertical-align: top;\n",
       "    }\n",
       "\n",
       "    .dataframe thead th {\n",
       "        text-align: right;\n",
       "    }\n",
       "</style>\n",
       "<table border=\"1\" class=\"dataframe\">\n",
       "  <thead>\n",
       "    <tr style=\"text-align: right;\">\n",
       "      <th></th>\n",
       "      <th>name</th>\n",
       "    </tr>\n",
       "  </thead>\n",
       "  <tbody>\n",
       "  </tbody>\n",
       "</table>\n",
       "</div>"
      ],
      "text/plain": [
       "Empty DataFrame\n",
       "Columns: [name]\n",
       "Index: []"
      ]
     },
     "execution_count": 248,
     "metadata": {},
     "output_type": "execute_result"
    }
   ],
   "source": [
    "test_df[test_df['name']=='#na#']"
   ]
  },
  {
   "cell_type": "code",
   "execution_count": 251,
   "metadata": {},
   "outputs": [],
   "source": [
    "temp = str(test_df.name)"
   ]
  },
  {
   "cell_type": "code",
   "execution_count": 252,
   "metadata": {},
   "outputs": [
    {
     "data": {
      "text/plain": [
       "False"
      ]
     },
     "execution_count": 252,
     "metadata": {},
     "output_type": "execute_result"
    }
   ],
   "source": [
    "\"#na#\" in temp"
   ]
  },
  {
   "cell_type": "code",
   "execution_count": 122,
   "metadata": {},
   "outputs": [
    {
     "data": {
      "text/plain": [
       "0"
      ]
     },
     "execution_count": 122,
     "metadata": {},
     "output_type": "execute_result"
    }
   ],
   "source": [
    "np.sum(df_Kd.compound_id.str.contains('#na#'))"
   ]
  },
  {
   "cell_type": "code",
   "execution_count": 101,
   "metadata": {},
   "outputs": [
    {
     "data": {
      "text/html": [
       "<div>\n",
       "<style scoped>\n",
       "    .dataframe tbody tr th:only-of-type {\n",
       "        vertical-align: middle;\n",
       "    }\n",
       "\n",
       "    .dataframe tbody tr th {\n",
       "        vertical-align: top;\n",
       "    }\n",
       "\n",
       "    .dataframe thead th {\n",
       "        text-align: right;\n",
       "    }\n",
       "</style>\n",
       "<table border=\"1\" class=\"dataframe\">\n",
       "  <thead>\n",
       "    <tr style=\"text-align: right;\">\n",
       "      <th></th>\n",
       "      <th>index</th>\n",
       "      <th>compound_id</th>\n",
       "      <th>target_id</th>\n",
       "      <th>standard_type</th>\n",
       "      <th>standard_relation</th>\n",
       "      <th>standard_value</th>\n",
       "      <th>standard_units</th>\n",
       "      <th>KDlog</th>\n",
       "    </tr>\n",
       "  </thead>\n",
       "  <tbody>\n",
       "    <tr>\n",
       "      <th>0</th>\n",
       "      <td>216</td>\n",
       "      <td>CHEMBL135581</td>\n",
       "      <td>P00374</td>\n",
       "      <td>KD</td>\n",
       "      <td>=</td>\n",
       "      <td>0.5</td>\n",
       "      <td>NM</td>\n",
       "      <td>-0.693147</td>\n",
       "    </tr>\n",
       "    <tr>\n",
       "      <th>1</th>\n",
       "      <td>217</td>\n",
       "      <td>CHEMBL135581</td>\n",
       "      <td>P00374</td>\n",
       "      <td>KD</td>\n",
       "      <td>=</td>\n",
       "      <td>0.6</td>\n",
       "      <td>NM</td>\n",
       "      <td>-0.510826</td>\n",
       "    </tr>\n",
       "    <tr>\n",
       "      <th>2</th>\n",
       "      <td>218</td>\n",
       "      <td>CHEMBL135581</td>\n",
       "      <td>P00374</td>\n",
       "      <td>KD</td>\n",
       "      <td>=</td>\n",
       "      <td>450.0</td>\n",
       "      <td>NM</td>\n",
       "      <td>6.109248</td>\n",
       "    </tr>\n",
       "    <tr>\n",
       "      <th>3</th>\n",
       "      <td>219</td>\n",
       "      <td>CHEMBL135581</td>\n",
       "      <td>P00374</td>\n",
       "      <td>KD</td>\n",
       "      <td>=</td>\n",
       "      <td>1000.0</td>\n",
       "      <td>NM</td>\n",
       "      <td>6.907755</td>\n",
       "    </tr>\n",
       "    <tr>\n",
       "      <th>4</th>\n",
       "      <td>220</td>\n",
       "      <td>CHEMBL135581</td>\n",
       "      <td>P00374</td>\n",
       "      <td>KD</td>\n",
       "      <td>=</td>\n",
       "      <td>1200.0</td>\n",
       "      <td>NM</td>\n",
       "      <td>7.090077</td>\n",
       "    </tr>\n",
       "  </tbody>\n",
       "</table>\n",
       "</div>"
      ],
      "text/plain": [
       "   index   compound_id target_id standard_type standard_relation  \\\n",
       "0    216  CHEMBL135581    P00374            KD                 =   \n",
       "1    217  CHEMBL135581    P00374            KD                 =   \n",
       "2    218  CHEMBL135581    P00374            KD                 =   \n",
       "3    219  CHEMBL135581    P00374            KD                 =   \n",
       "4    220  CHEMBL135581    P00374            KD                 =   \n",
       "\n",
       "   standard_value standard_units     KDlog  \n",
       "0             0.5             NM -0.693147  \n",
       "1             0.6             NM -0.510826  \n",
       "2           450.0             NM  6.109248  \n",
       "3          1000.0             NM  6.907755  \n",
       "4          1200.0             NM  7.090077  "
      ]
     },
     "execution_count": 101,
     "metadata": {},
     "output_type": "execute_result"
    }
   ],
   "source": [
    "df_Kd.reset_index().head()"
   ]
  },
  {
   "cell_type": "code",
   "execution_count": 128,
   "metadata": {},
   "outputs": [
    {
     "data": {
      "text/html": [
       "<div>\n",
       "<style scoped>\n",
       "    .dataframe tbody tr th:only-of-type {\n",
       "        vertical-align: middle;\n",
       "    }\n",
       "\n",
       "    .dataframe tbody tr th {\n",
       "        vertical-align: top;\n",
       "    }\n",
       "\n",
       "    .dataframe thead th {\n",
       "        text-align: right;\n",
       "    }\n",
       "</style>\n",
       "<table border=\"1\" class=\"dataframe\">\n",
       "  <thead>\n",
       "    <tr style=\"text-align: right;\">\n",
       "      <th></th>\n",
       "      <th>compound_id</th>\n",
       "      <th>target_id</th>\n",
       "      <th>standard_value</th>\n",
       "      <th>standard_units</th>\n",
       "      <th>KDlog</th>\n",
       "    </tr>\n",
       "  </thead>\n",
       "  <tbody>\n",
       "    <tr>\n",
       "      <th>234223</th>\n",
       "      <td>CHEMBL184046</td>\n",
       "      <td>P98170</td>\n",
       "      <td>40.0</td>\n",
       "      <td>NM</td>\n",
       "      <td>3.688879</td>\n",
       "    </tr>\n",
       "    <tr>\n",
       "      <th>514972</th>\n",
       "      <td>CHEMBL360180</td>\n",
       "      <td>P98170</td>\n",
       "      <td>40.0</td>\n",
       "      <td>NM</td>\n",
       "      <td>3.688879</td>\n",
       "    </tr>\n",
       "    <tr>\n",
       "      <th>645175</th>\n",
       "      <td>CHEMBL310987</td>\n",
       "      <td>P98170</td>\n",
       "      <td>38.0</td>\n",
       "      <td>NM</td>\n",
       "      <td>3.637586</td>\n",
       "    </tr>\n",
       "    <tr>\n",
       "      <th>2305929</th>\n",
       "      <td>CHEMBL365676</td>\n",
       "      <td>P98170</td>\n",
       "      <td>50.0</td>\n",
       "      <td>NM</td>\n",
       "      <td>3.912023</td>\n",
       "    </tr>\n",
       "    <tr>\n",
       "      <th>2890787</th>\n",
       "      <td>CHEMBL2414998</td>\n",
       "      <td>P98170</td>\n",
       "      <td>40.0</td>\n",
       "      <td>NM</td>\n",
       "      <td>3.688879</td>\n",
       "    </tr>\n",
       "    <tr>\n",
       "      <th>3287092</th>\n",
       "      <td>CHEMBL183992</td>\n",
       "      <td>P98170</td>\n",
       "      <td>40.0</td>\n",
       "      <td>NM</td>\n",
       "      <td>3.688879</td>\n",
       "    </tr>\n",
       "    <tr>\n",
       "      <th>3460568</th>\n",
       "      <td>CHEMBL384327</td>\n",
       "      <td>P98170</td>\n",
       "      <td>38.0</td>\n",
       "      <td>NM</td>\n",
       "      <td>3.637586</td>\n",
       "    </tr>\n",
       "    <tr>\n",
       "      <th>3909769</th>\n",
       "      <td>CHEMBL187005</td>\n",
       "      <td>P98170</td>\n",
       "      <td>40.0</td>\n",
       "      <td>NM</td>\n",
       "      <td>3.688879</td>\n",
       "    </tr>\n",
       "    <tr>\n",
       "      <th>5417713</th>\n",
       "      <td>CHEMBL234346</td>\n",
       "      <td>P98170</td>\n",
       "      <td>40.0</td>\n",
       "      <td>NM</td>\n",
       "      <td>3.688879</td>\n",
       "    </tr>\n",
       "  </tbody>\n",
       "</table>\n",
       "</div>"
      ],
      "text/plain": [
       "           compound_id target_id  standard_value standard_units     KDlog\n",
       "234223    CHEMBL184046    P98170            40.0             NM  3.688879\n",
       "514972    CHEMBL360180    P98170            40.0             NM  3.688879\n",
       "645175    CHEMBL310987    P98170            38.0             NM  3.637586\n",
       "2305929   CHEMBL365676    P98170            50.0             NM  3.912023\n",
       "2890787  CHEMBL2414998    P98170            40.0             NM  3.688879\n",
       "3287092   CHEMBL183992    P98170            40.0             NM  3.688879\n",
       "3460568   CHEMBL384327    P98170            38.0             NM  3.637586\n",
       "3909769   CHEMBL187005    P98170            40.0             NM  3.688879\n",
       "5417713   CHEMBL234346    P98170            40.0             NM  3.688879"
      ]
     },
     "execution_count": 128,
     "metadata": {},
     "output_type": "execute_result"
    }
   ],
   "source": [
    "df_Kd[(df_Kd.target_id=='P98170')&(df_Kd.KDlog>3.5)&(df_Kd.KDlog<4)]"
   ]
  },
  {
   "cell_type": "markdown",
   "metadata": {},
   "source": [
    "# embedding NN (https://towardsdatascience.com/collaborative-filtering-with-fastai-3dbdd4ef4f00)"
   ]
  },
  {
   "cell_type": "code",
   "execution_count": 269,
   "metadata": {},
   "outputs": [],
   "source": [
    "Kd_NN = collab_learner(Kd_data, use_nn=True, \n",
    "                       emb_szs={'compound_id': 40, 'target_id':40}, layers=[256, 128], y_range=(-20, 30))"
   ]
  },
  {
   "cell_type": "code",
   "execution_count": 270,
   "metadata": {},
   "outputs": [
    {
     "name": "stdout",
     "output_type": "stream",
     "text": [
      "LR Finder is complete, type {learner_name}.recorder.plot() to see the graph.\n"
     ]
    }
   ],
   "source": [
    "Kd_NN.lr_find()"
   ]
  },
  {
   "cell_type": "code",
   "execution_count": 271,
   "metadata": {},
   "outputs": [
    {
     "data": {
      "image/png": "[encoded data removed]",
      "text/plain": [
       "<Figure size 432x288 with 1 Axes>"
      ]
     },
     "metadata": {
      "needs_background": "light"
     },
     "output_type": "display_data"
    }
   ],
   "source": [
    "Kd_NN.recorder.plot()"
   ]
  },
  {
   "cell_type": "code",
   "execution_count": 272,
   "metadata": {},
   "outputs": [
    {
     "data": {
      "text/html": [
       "Total time: 00:30 <p><table style='width:300px; margin-bottom:10px'>\n",
       "  <tr>\n",
       "    <th>epoch</th>\n",
       "    <th>train_loss</th>\n",
       "    <th>valid_loss</th>\n",
       "  </tr>\n",
       "  <tr>\n",
       "    <th>1</th>\n",
       "    <th>8.092835</th>\n",
       "    <th>7.002777</th>\n",
       "  </tr>\n",
       "  <tr>\n",
       "    <th>2</th>\n",
       "    <th>7.083485</th>\n",
       "    <th>6.826031</th>\n",
       "  </tr>\n",
       "  <tr>\n",
       "    <th>3</th>\n",
       "    <th>5.260640</th>\n",
       "    <th>6.407361</th>\n",
       "  </tr>\n",
       "  <tr>\n",
       "    <th>4</th>\n",
       "    <th>4.042236</th>\n",
       "    <th>5.750410</th>\n",
       "  </tr>\n",
       "  <tr>\n",
       "    <th>5</th>\n",
       "    <th>3.379128</th>\n",
       "    <th>5.433368</th>\n",
       "  </tr>\n",
       "  <tr>\n",
       "    <th>6</th>\n",
       "    <th>2.762931</th>\n",
       "    <th>5.120790</th>\n",
       "  </tr>\n",
       "  <tr>\n",
       "    <th>7</th>\n",
       "    <th>2.096077</th>\n",
       "    <th>5.052482</th>\n",
       "  </tr>\n",
       "  <tr>\n",
       "    <th>8</th>\n",
       "    <th>1.783967</th>\n",
       "    <th>4.964086</th>\n",
       "  </tr>\n",
       "  <tr>\n",
       "    <th>9</th>\n",
       "    <th>1.583162</th>\n",
       "    <th>5.192410</th>\n",
       "  </tr>\n",
       "  <tr>\n",
       "    <th>10</th>\n",
       "    <th>1.353708</th>\n",
       "    <th>5.019313</th>\n",
       "  </tr>\n",
       "</table>\n"
      ],
      "text/plain": [
       "<IPython.core.display.HTML object>"
      ]
     },
     "metadata": {},
     "output_type": "display_data"
    }
   ],
   "source": [
    "Kd_NN.fit_one_cycle(10, 1e-2)"
   ]
  },
  {
   "cell_type": "code",
   "execution_count": 273,
   "metadata": {},
   "outputs": [
    {
     "data": {
      "image/png": "[encoded data removed]",
      "text/plain": [
       "<Figure size 432x288 with 1 Axes>"
      ]
     },
     "metadata": {
      "needs_background": "light"
     },
     "output_type": "display_data"
    }
   ],
   "source": [
    "Kd_NN.recorder.plot_losses()"
   ]
  },
  {
   "cell_type": "code",
   "execution_count": 274,
   "metadata": {},
   "outputs": [
    {
     "data": {
      "text/html": [
       "<table>  <col width='10%'>  <col width='10%'>  <col width='10%'>  <col width='10%'>  <tr>\n",
       "    <th>compound_id</th>\n",
       "    <th>target_id</th>\n",
       "    <th>target</th>\n",
       "    <th>prediction</th>\n",
       "  </tr>\n",
       "  <tr>\n",
       "    <th>CHEMBL2024149</th>\n",
       "    <th>P0DMS8</th>\n",
       "    <th>-0.8278220891952515</th>\n",
       "    <th>3.687488555908203</th>\n",
       "  </tr>\n",
       "  <tr>\n",
       "    <th>CHEMBL1544</th>\n",
       "    <th>P10827</th>\n",
       "    <th>-2.8473122119903564</th>\n",
       "    <th>-2.4090042114257812</th>\n",
       "  </tr>\n",
       "  <tr>\n",
       "    <th>CHEMBL265556</th>\n",
       "    <th>P30968</th>\n",
       "    <th>0.0</th>\n",
       "    <th>0.11651229858398438</th>\n",
       "  </tr>\n",
       "  <tr>\n",
       "    <th>CHEMBL1721885</th>\n",
       "    <th>Q9Y4K4</th>\n",
       "    <th>5.703782558441162</th>\n",
       "    <th>5.274375915527344</th>\n",
       "  </tr>\n",
       "  <tr>\n",
       "    <th>CHEMBL522892</th>\n",
       "    <th>Q16513</th>\n",
       "    <th>9.200289726257324</th>\n",
       "    <th>8.28076171875</th>\n",
       "  </tr>\n",
       "</table>\n"
      ],
      "text/plain": [
       "<IPython.core.display.HTML object>"
      ]
     },
     "metadata": {},
     "output_type": "display_data"
    }
   ],
   "source": [
    "Kd_NN.show_results()"
   ]
  },
  {
   "cell_type": "code",
   "execution_count": 275,
   "metadata": {},
   "outputs": [],
   "source": [
    "Kd_NN_preds = Kd_NN.get_preds()"
   ]
  },
  {
   "cell_type": "code",
   "execution_count": 276,
   "metadata": {},
   "outputs": [
    {
     "data": {
      "image/png": "[encoded data removed]",
      "text/plain": [
       "<Figure size 432x288 with 2 Axes>"
      ]
     },
     "metadata": {
      "needs_background": "light"
     },
     "output_type": "display_data"
    }
   ],
   "source": [
    "plot_preds(Kd_NN_preds[0].flatten(), Kd_NN_preds[1], target_name)"
   ]
  },
  {
   "cell_type": "markdown",
   "metadata": {},
   "source": [
    "## TODO\n",
    "1. explore the effect o embedding"
   ]
  },
  {
   "cell_type": "code",
   "execution_count": null,
   "metadata": {},
   "outputs": [],
   "source": []
  }
 ],
 "metadata": {
  "kernelspec": {
   "display_name": "Python 3",
   "language": "python",
   "name": "python3"
  },
  "language_info": {
   "codemirror_mode": {
    "name": "ipython",
    "version": 3
   },
   "file_extension": ".py",
   "mimetype": "text/x-python",
   "name": "python",
   "nbconvert_exporter": "python",
   "pygments_lexer": "ipython3",
   "version": "3.7.2"
  }
 },
 "nbformat": 4,
 "nbformat_minor": 2
}
