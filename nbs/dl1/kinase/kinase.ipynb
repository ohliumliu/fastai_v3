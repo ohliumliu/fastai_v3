{
 "cells": [
  {
   "cell_type": "code",
   "execution_count": 82,
   "metadata": {},
   "outputs": [],
   "source": [
    "from fastai.collab import *\n",
    "from fastai.tabular import *\n",
    "import numpy as np\n",
    "import matplotlib.pylab as plt\n",
    "from scipy import stats"
   ]
  },
  {
   "cell_type": "code",
   "execution_count": 60,
   "metadata": {},
   "outputs": [],
   "source": [
    "def get_data(path, standard_type = 'KD', transformation = None):\n",
    "    df_all = pd.read_csv(path)\n",
    "    df_filtered = df_all[df_all.standard_value!=0].copy()\n",
    "    df_filtered = df_filtered[(df_all.standard_type==standard_type) & \n",
    "                  (df_all.standard_relation=='=')][['compound_id', 'target_id', \n",
    "                                                    'standard_value', 'standard_units']].dropna().copy()\n",
    "    df_filtered = df_filtered[~df_filtered.target_id.str.contains(',')]\n",
    "    if transformation == None:\n",
    "        target_name = standard_type\n",
    "        df_filtered[target_nanme] = df_filtered['standard_value']\n",
    "    else:\n",
    "        target_name = standard_type + transformation.__name__\n",
    "        df_filtered[target_name] = transformation(df_filtered['standard_value'])\n",
    "    \n",
    "    return df_filtered, target_name"
   ]
  },
  {
   "cell_type": "code",
   "execution_count": 61,
   "metadata": {},
   "outputs": [],
   "source": [
    "path = Path('/home/jupyter/.fastai/data/kinase/DTC_data.csv')"
   ]
  },
  {
   "cell_type": "code",
   "execution_count": 32,
   "metadata": {},
   "outputs": [
    {
     "data": {
      "text/plain": [
       "Index(['compound_id', 'standard_inchi_key', 'compound_name', 'synonym',\n",
       "       'target_id', 'target_pref_name', 'gene_names', 'wildtype_or_mutant',\n",
       "       'mutation_info', 'pubmed_id', 'standard_type', 'standard_relation',\n",
       "       'standard_value', 'standard_units', 'activity_comment',\n",
       "       'ep_action_mode', 'assay_format', 'assaytype', 'assay_subtype',\n",
       "       'inhibitor_type', 'detection_tech', 'assay_cell_line',\n",
       "       'compound_concentration_value', 'compound_concentration_value_unit',\n",
       "       'substrate_type', 'substrate_relation', 'substrate_value',\n",
       "       'substrate_units', 'assay_description', 'title', 'journal', 'doc_type',\n",
       "       'annotation_comments'],\n",
       "      dtype='object')"
      ]
     },
     "execution_count": 32,
     "metadata": {},
     "output_type": "execute_result"
    }
   ],
   "source": [
    "columns = df_DTC.columns; columns"
   ]
  },
  {
   "cell_type": "code",
   "execution_count": 62,
   "metadata": {},
   "outputs": [
    {
     "name": "stderr",
     "output_type": "stream",
     "text": [
      "/opt/anaconda3/lib/python3.7/site-packages/IPython/core/interactiveshell.py:3185: DtypeWarning: Columns (0,1,2,3,8,14,21,22,23,24,25,26,27,30,32) have mixed types. Specify dtype option on import or set low_memory=False.\n",
      "  if (yield from self.run_code(code, result)):\n",
      "/opt/anaconda3/lib/python3.7/site-packages/ipykernel_launcher.py:5: UserWarning: Boolean Series key will be reindexed to match DataFrame index.\n",
      "  \"\"\"\n"
     ]
    }
   ],
   "source": [
    "df_Kd, target_name = get_data(path, standard_type='KD', transformation=np.log)"
   ]
  },
  {
   "cell_type": "code",
   "execution_count": 44,
   "metadata": {},
   "outputs": [
    {
     "data": {
      "text/html": [
       "<div>\n",
       "<style scoped>\n",
       "    .dataframe tbody tr th:only-of-type {\n",
       "        vertical-align: middle;\n",
       "    }\n",
       "\n",
       "    .dataframe tbody tr th {\n",
       "        vertical-align: top;\n",
       "    }\n",
       "\n",
       "    .dataframe thead th {\n",
       "        text-align: right;\n",
       "    }\n",
       "</style>\n",
       "<table border=\"1\" class=\"dataframe\">\n",
       "  <thead>\n",
       "    <tr style=\"text-align: right;\">\n",
       "      <th></th>\n",
       "      <th>compound_id</th>\n",
       "      <th>target_id</th>\n",
       "      <th>standard_value</th>\n",
       "      <th>standard_units</th>\n",
       "      <th>KDlog</th>\n",
       "    </tr>\n",
       "  </thead>\n",
       "  <tbody>\n",
       "    <tr>\n",
       "      <th>216</th>\n",
       "      <td>CHEMBL135581</td>\n",
       "      <td>P00374</td>\n",
       "      <td>0.5</td>\n",
       "      <td>NM</td>\n",
       "      <td>-0.693147</td>\n",
       "    </tr>\n",
       "    <tr>\n",
       "      <th>217</th>\n",
       "      <td>CHEMBL135581</td>\n",
       "      <td>P00374</td>\n",
       "      <td>0.6</td>\n",
       "      <td>NM</td>\n",
       "      <td>-0.510826</td>\n",
       "    </tr>\n",
       "    <tr>\n",
       "      <th>218</th>\n",
       "      <td>CHEMBL135581</td>\n",
       "      <td>P00374</td>\n",
       "      <td>450.0</td>\n",
       "      <td>NM</td>\n",
       "      <td>6.109248</td>\n",
       "    </tr>\n",
       "    <tr>\n",
       "      <th>219</th>\n",
       "      <td>CHEMBL135581</td>\n",
       "      <td>P00374</td>\n",
       "      <td>1000.0</td>\n",
       "      <td>NM</td>\n",
       "      <td>6.907755</td>\n",
       "    </tr>\n",
       "    <tr>\n",
       "      <th>220</th>\n",
       "      <td>CHEMBL135581</td>\n",
       "      <td>P00374</td>\n",
       "      <td>1200.0</td>\n",
       "      <td>NM</td>\n",
       "      <td>7.090077</td>\n",
       "    </tr>\n",
       "  </tbody>\n",
       "</table>\n",
       "</div>"
      ],
      "text/plain": [
       "      compound_id target_id  standard_value standard_units     KDlog\n",
       "216  CHEMBL135581    P00374             0.5             NM -0.693147\n",
       "217  CHEMBL135581    P00374             0.6             NM -0.510826\n",
       "218  CHEMBL135581    P00374           450.0             NM  6.109248\n",
       "219  CHEMBL135581    P00374          1000.0             NM  6.907755\n",
       "220  CHEMBL135581    P00374          1200.0             NM  7.090077"
      ]
     },
     "execution_count": 44,
     "metadata": {},
     "output_type": "execute_result"
    }
   ],
   "source": [
    "df_Kd.head()"
   ]
  },
  {
   "cell_type": "code",
   "execution_count": 63,
   "metadata": {},
   "outputs": [
    {
     "data": {
      "text/plain": [
       "(32625, 5)"
      ]
     },
     "execution_count": 63,
     "metadata": {},
     "output_type": "execute_result"
    }
   ],
   "source": [
    "df_Kd.shape"
   ]
  },
  {
   "cell_type": "code",
   "execution_count": 64,
   "metadata": {},
   "outputs": [
    {
     "data": {
      "text/plain": [
       "count    32625.000000\n",
       "mean         5.364442\n",
       "std          3.458598\n",
       "min        -18.420681\n",
       "25%          2.995732\n",
       "50%          5.669881\n",
       "75%          7.649693\n",
       "max         25.328436\n",
       "Name: KDlog, dtype: float64"
      ]
     },
     "execution_count": 64,
     "metadata": {},
     "output_type": "execute_result"
    }
   ],
   "source": [
    "df_Kd.KDlog.describe()"
   ]
  },
  {
   "cell_type": "code",
   "execution_count": 65,
   "metadata": {},
   "outputs": [],
   "source": [
    "Kd_data = CollabDataBunch.from_df(df_Kd, user_name='compound_id',\n",
    "                                         item_name='target_id',\n",
    "                                         rating_name=target_name, seed=40)"
   ]
  },
  {
   "cell_type": "code",
   "execution_count": 66,
   "metadata": {},
   "outputs": [
    {
     "data": {
      "text/html": [
       "<table>  <col width='10%'>  <col width='10%'>  <col width='10%'>  <tr>\n",
       "    <th>compound_id</th>\n",
       "    <th>target_id</th>\n",
       "    <th>target</th>\n",
       "  </tr>\n",
       "  <tr>\n",
       "    <th>CHEMBL103667</th>\n",
       "    <th>P00519</th>\n",
       "    <th>9.047821044921875</th>\n",
       "  </tr>\n",
       "  <tr>\n",
       "    <th>CHEMBL1789941</th>\n",
       "    <th>O75582</th>\n",
       "    <th>4.9416422843933105</th>\n",
       "  </tr>\n",
       "  <tr>\n",
       "    <th>CHEMBL379218</th>\n",
       "    <th>Q8N4C8</th>\n",
       "    <th>4.605170249938965</th>\n",
       "  </tr>\n",
       "  <tr>\n",
       "    <th>CHEMBL475251</th>\n",
       "    <th>P36888</th>\n",
       "    <th>-0.9942522644996643</th>\n",
       "  </tr>\n",
       "  <tr>\n",
       "    <th>CHEMBL538053</th>\n",
       "    <th>Q01959</th>\n",
       "    <th>8.160518646240234</th>\n",
       "  </tr>\n",
       "</table>\n"
      ],
      "text/plain": [
       "<IPython.core.display.HTML object>"
      ]
     },
     "metadata": {},
     "output_type": "display_data"
    }
   ],
   "source": [
    "Kd_data.show_batch()"
   ]
  },
  {
   "cell_type": "code",
   "execution_count": 67,
   "metadata": {},
   "outputs": [],
   "source": [
    "Kd_learn = collab_learner(Kd_data, n_factors=50, \n",
    "                          y_range=[-20, 30])"
   ]
  },
  {
   "cell_type": "code",
   "execution_count": 68,
   "metadata": {},
   "outputs": [
    {
     "name": "stdout",
     "output_type": "stream",
     "text": [
      "LR Finder is complete, type {learner_name}.recorder.plot() to see the graph.\n"
     ]
    }
   ],
   "source": [
    "Kd_learn.lr_find()"
   ]
  },
  {
   "cell_type": "code",
   "execution_count": 69,
   "metadata": {},
   "outputs": [
    {
     "data": {
      "image/png": "[encoded data removed]",
      "text/plain": [
       "<Figure size 432x288 with 1 Axes>"
      ]
     },
     "metadata": {
      "needs_background": "light"
     },
     "output_type": "display_data"
    }
   ],
   "source": [
    "Kd_learn.recorder.plot()"
   ]
  },
  {
   "cell_type": "code",
   "execution_count": 70,
   "metadata": {},
   "outputs": [
    {
     "data": {
      "text/html": [
       "Total time: 00:23 <p><table style='width:300px; margin-bottom:10px'>\n",
       "  <tr>\n",
       "    <th>epoch</th>\n",
       "    <th>train_loss</th>\n",
       "    <th>valid_loss</th>\n",
       "  </tr>\n",
       "  <tr>\n",
       "    <th>1</th>\n",
       "    <th>8.542627</th>\n",
       "    <th>7.186950</th>\n",
       "  </tr>\n",
       "  <tr>\n",
       "    <th>2</th>\n",
       "    <th>5.463815</th>\n",
       "    <th>6.161644</th>\n",
       "  </tr>\n",
       "  <tr>\n",
       "    <th>3</th>\n",
       "    <th>4.976466</th>\n",
       "    <th>7.235197</th>\n",
       "  </tr>\n",
       "  <tr>\n",
       "    <th>4</th>\n",
       "    <th>5.215960</th>\n",
       "    <th>7.170148</th>\n",
       "  </tr>\n",
       "  <tr>\n",
       "    <th>5</th>\n",
       "    <th>4.761083</th>\n",
       "    <th>6.569350</th>\n",
       "  </tr>\n",
       "  <tr>\n",
       "    <th>6</th>\n",
       "    <th>3.664170</th>\n",
       "    <th>5.937446</th>\n",
       "  </tr>\n",
       "  <tr>\n",
       "    <th>7</th>\n",
       "    <th>2.369787</th>\n",
       "    <th>5.360153</th>\n",
       "  </tr>\n",
       "  <tr>\n",
       "    <th>8</th>\n",
       "    <th>1.750033</th>\n",
       "    <th>5.155908</th>\n",
       "  </tr>\n",
       "  <tr>\n",
       "    <th>9</th>\n",
       "    <th>0.880052</th>\n",
       "    <th>5.037480</th>\n",
       "  </tr>\n",
       "  <tr>\n",
       "    <th>10</th>\n",
       "    <th>0.551732</th>\n",
       "    <th>5.036751</th>\n",
       "  </tr>\n",
       "</table>\n"
      ],
      "text/plain": [
       "<IPython.core.display.HTML object>"
      ]
     },
     "metadata": {},
     "output_type": "display_data"
    }
   ],
   "source": [
    "Kd_learn.fit_one_cycle(10, 1e-2)"
   ]
  },
  {
   "cell_type": "code",
   "execution_count": 71,
   "metadata": {},
   "outputs": [
    {
     "data": {
      "image/png": "[encoded data removed]",
      "text/plain": [
       "<Figure size 432x288 with 1 Axes>"
      ]
     },
     "metadata": {
      "needs_background": "light"
     },
     "output_type": "display_data"
    }
   ],
   "source": [
    "Kd_learn.recorder.plot_losses()"
   ]
  },
  {
   "cell_type": "code",
   "execution_count": 107,
   "metadata": {},
   "outputs": [
    {
     "data": {
      "text/html": [
       "Total time: 00:23 <p><table style='width:300px; margin-bottom:10px'>\n",
       "  <tr>\n",
       "    <th>epoch</th>\n",
       "    <th>train_loss</th>\n",
       "    <th>valid_loss</th>\n",
       "  </tr>\n",
       "  <tr>\n",
       "    <th>1</th>\n",
       "    <th>0.762710</th>\n",
       "    <th>5.193181</th>\n",
       "  </tr>\n",
       "  <tr>\n",
       "    <th>2</th>\n",
       "    <th>2.321463</th>\n",
       "    <th>6.254951</th>\n",
       "  </tr>\n",
       "  <tr>\n",
       "    <th>3</th>\n",
       "    <th>4.517321</th>\n",
       "    <th>7.511279</th>\n",
       "  </tr>\n",
       "  <tr>\n",
       "    <th>4</th>\n",
       "    <th>5.052692</th>\n",
       "    <th>7.245592</th>\n",
       "  </tr>\n",
       "  <tr>\n",
       "    <th>5</th>\n",
       "    <th>4.474113</th>\n",
       "    <th>6.765199</th>\n",
       "  </tr>\n",
       "  <tr>\n",
       "    <th>6</th>\n",
       "    <th>3.734958</th>\n",
       "    <th>6.042269</th>\n",
       "  </tr>\n",
       "  <tr>\n",
       "    <th>7</th>\n",
       "    <th>2.442249</th>\n",
       "    <th>5.529686</th>\n",
       "  </tr>\n",
       "  <tr>\n",
       "    <th>8</th>\n",
       "    <th>1.479950</th>\n",
       "    <th>5.222150</th>\n",
       "  </tr>\n",
       "  <tr>\n",
       "    <th>9</th>\n",
       "    <th>0.939413</th>\n",
       "    <th>5.137821</th>\n",
       "  </tr>\n",
       "  <tr>\n",
       "    <th>10</th>\n",
       "    <th>0.633723</th>\n",
       "    <th>5.134237</th>\n",
       "  </tr>\n",
       "</table>\n"
      ],
      "text/plain": [
       "<IPython.core.display.HTML object>"
      ]
     },
     "metadata": {},
     "output_type": "display_data"
    }
   ],
   "source": [
    "Kd_learn.fit_one_cycle(10, 1e-2)"
   ]
  },
  {
   "cell_type": "code",
   "execution_count": 113,
   "metadata": {},
   "outputs": [
    {
     "data": {
      "image/png": "[encoded data removed]",
      "text/plain": [
       "<Figure size 432x288 with 1 Axes>"
      ]
     },
     "metadata": {
      "needs_background": "light"
     },
     "output_type": "display_data"
    }
   ],
   "source": [
    "Kd_learn.recorder.plot_losses()"
   ]
  },
  {
   "cell_type": "code",
   "execution_count": 108,
   "metadata": {},
   "outputs": [
    {
     "data": {
      "text/html": [
       "<table>  <col width='10%'>  <col width='10%'>  <col width='10%'>  <col width='10%'>  <tr>\n",
       "    <th>compound_id</th>\n",
       "    <th>target_id</th>\n",
       "    <th>target</th>\n",
       "    <th>prediction</th>\n",
       "  </tr>\n",
       "  <tr>\n",
       "    <th>CHEMBL2024149</th>\n",
       "    <th>P0DMS8</th>\n",
       "    <th>-0.8278220891952515</th>\n",
       "    <th>3.8496265411376953</th>\n",
       "  </tr>\n",
       "  <tr>\n",
       "    <th>CHEMBL1544</th>\n",
       "    <th>P10827</th>\n",
       "    <th>-2.8473122119903564</th>\n",
       "    <th>-2.3591575622558594</th>\n",
       "  </tr>\n",
       "  <tr>\n",
       "    <th>#na#</th>\n",
       "    <th>P30968</th>\n",
       "    <th>0.0</th>\n",
       "    <th>0.36069488525390625</th>\n",
       "  </tr>\n",
       "  <tr>\n",
       "    <th>CHEMBL1721885</th>\n",
       "    <th>Q9Y4K4</th>\n",
       "    <th>5.703782558441162</th>\n",
       "    <th>5.620752334594727</th>\n",
       "  </tr>\n",
       "  <tr>\n",
       "    <th>CHEMBL522892</th>\n",
       "    <th>Q16513</th>\n",
       "    <th>9.200289726257324</th>\n",
       "    <th>9.163154602050781</th>\n",
       "  </tr>\n",
       "  <tr>\n",
       "    <th>CHEMBL3311525</th>\n",
       "    <th>O00214</th>\n",
       "    <th>12.506176948547363</th>\n",
       "    <th>13.29690933227539</th>\n",
       "  </tr>\n",
       "  <tr>\n",
       "    <th>#na#</th>\n",
       "    <th>P47811</th>\n",
       "    <th>0.6418538689613342</th>\n",
       "    <th>0.4641876220703125</th>\n",
       "  </tr>\n",
       "  <tr>\n",
       "    <th>CHEMBL535</th>\n",
       "    <th>Q86UE8</th>\n",
       "    <th>5.799092769622803</th>\n",
       "    <th>3.503143310546875</th>\n",
       "  </tr>\n",
       "  <tr>\n",
       "    <th>CHEMBL522892</th>\n",
       "    <th>O14757</th>\n",
       "    <th>7.090076923370361</th>\n",
       "    <th>6.97368049621582</th>\n",
       "  </tr>\n",
       "  <tr>\n",
       "    <th>#na#</th>\n",
       "    <th>P15056</th>\n",
       "    <th>4.465908050537109</th>\n",
       "    <th>5.462493896484375</th>\n",
       "  </tr>\n",
       "</table>\n"
      ],
      "text/plain": [
       "<IPython.core.display.HTML object>"
      ]
     },
     "metadata": {},
     "output_type": "display_data"
    }
   ],
   "source": [
    "Kd_learn.show_results(rows=10)"
   ]
  },
  {
   "cell_type": "code",
   "execution_count": 109,
   "metadata": {},
   "outputs": [],
   "source": [
    "Kd_preds = Kd_learn.get_preds()"
   ]
  },
  {
   "cell_type": "code",
   "execution_count": 103,
   "metadata": {},
   "outputs": [
    {
     "data": {
      "image/png": "[encoded data removed]",
      "text/plain": [
       "<Figure size 432x288 with 1 Axes>"
      ]
     },
     "metadata": {
      "needs_background": "light"
     },
     "output_type": "display_data"
    }
   ],
   "source": [
    "plt.scatter(Kd_preds[0], Kd_preds[1], alpha=0.02)\n",
    "plt.xlim([-10, 30])\n",
    "plt.ylim([-10, 30])\n",
    "plt.gca().set_aspect('equal')"
   ]
  },
  {
   "cell_type": "code",
   "execution_count": 83,
   "metadata": {},
   "outputs": [],
   "source": [
    "slope, intercept, r_value, p_value, std_err = stats.linregress(Kd_preds[0], Kd_preds[1])"
   ]
  },
  {
   "cell_type": "code",
   "execution_count": 84,
   "metadata": {},
   "outputs": [
    {
     "data": {
      "text/plain": [
       "0.7510411179033265"
      ]
     },
     "execution_count": 84,
     "metadata": {},
     "output_type": "execute_result"
    }
   ],
   "source": [
    "r_value"
   ]
  },
  {
   "cell_type": "code",
   "execution_count": 87,
   "metadata": {},
   "outputs": [
    {
     "data": {
      "text/plain": [
       "(0.9259262306662102, 0.498946113307869)"
      ]
     },
     "execution_count": 87,
     "metadata": {},
     "output_type": "execute_result"
    }
   ],
   "source": [
    "slope, intercept"
   ]
  },
  {
   "cell_type": "code",
   "execution_count": 110,
   "metadata": {},
   "outputs": [
    {
     "data": {
      "image/png": "[encoded data removed]",
      "text/plain": [
       "<Figure size 432x288 with 1 Axes>"
      ]
     },
     "metadata": {
      "needs_background": "light"
     },
     "output_type": "display_data"
    }
   ],
   "source": [
    "plt.scatter(Kd_preds[0], Kd_preds[1], alpha=0.02)\n",
    "plt.xlim([-10, 30])\n",
    "plt.ylim([-10, 30])\n",
    "plt.gca().set_aspect('equal')"
   ]
  },
  {
   "cell_type": "code",
   "execution_count": 111,
   "metadata": {},
   "outputs": [],
   "source": [
    "slope, intercept, r_value, p_value, std_err = stats.linregress(Kd_preds[0], Kd_preds[1])"
   ]
  },
  {
   "cell_type": "code",
   "execution_count": 112,
   "metadata": {},
   "outputs": [
    {
     "data": {
      "text/plain": [
       "0.7473625360965327"
      ]
     },
     "execution_count": 112,
     "metadata": {},
     "output_type": "execute_result"
    }
   ],
   "source": [
    "r_value"
   ]
  },
  {
   "cell_type": "markdown",
   "metadata": {},
   "source": [
    "# todo\n",
    "1. clean up\n",
    "2. figure out #na# issue\n",
    "3. clustering analysis"
   ]
  },
  {
   "cell_type": "code",
   "execution_count": 123,
   "metadata": {},
   "outputs": [
    {
     "data": {
      "text/plain": [
       "(CollabLine compound_id #na#; target_id P98170; , FloatItem 3.6888795)"
      ]
     },
     "execution_count": 123,
     "metadata": {},
     "output_type": "execute_result"
    }
   ],
   "source": [
    "Kd_learn.data.valid_ds[20]"
   ]
  },
  {
   "cell_type": "code",
   "execution_count": 128,
   "metadata": {},
   "outputs": [
    {
     "data": {
      "text/html": [
       "<div>\n",
       "<style scoped>\n",
       "    .dataframe tbody tr th:only-of-type {\n",
       "        vertical-align: middle;\n",
       "    }\n",
       "\n",
       "    .dataframe tbody tr th {\n",
       "        vertical-align: top;\n",
       "    }\n",
       "\n",
       "    .dataframe thead th {\n",
       "        text-align: right;\n",
       "    }\n",
       "</style>\n",
       "<table border=\"1\" class=\"dataframe\">\n",
       "  <thead>\n",
       "    <tr style=\"text-align: right;\">\n",
       "      <th></th>\n",
       "      <th>compound_id</th>\n",
       "      <th>target_id</th>\n",
       "      <th>standard_value</th>\n",
       "      <th>standard_units</th>\n",
       "      <th>KDlog</th>\n",
       "    </tr>\n",
       "  </thead>\n",
       "  <tbody>\n",
       "    <tr>\n",
       "      <th>234223</th>\n",
       "      <td>CHEMBL184046</td>\n",
       "      <td>P98170</td>\n",
       "      <td>40.0</td>\n",
       "      <td>NM</td>\n",
       "      <td>3.688879</td>\n",
       "    </tr>\n",
       "    <tr>\n",
       "      <th>514972</th>\n",
       "      <td>CHEMBL360180</td>\n",
       "      <td>P98170</td>\n",
       "      <td>40.0</td>\n",
       "      <td>NM</td>\n",
       "      <td>3.688879</td>\n",
       "    </tr>\n",
       "    <tr>\n",
       "      <th>645175</th>\n",
       "      <td>CHEMBL310987</td>\n",
       "      <td>P98170</td>\n",
       "      <td>38.0</td>\n",
       "      <td>NM</td>\n",
       "      <td>3.637586</td>\n",
       "    </tr>\n",
       "    <tr>\n",
       "      <th>2305929</th>\n",
       "      <td>CHEMBL365676</td>\n",
       "      <td>P98170</td>\n",
       "      <td>50.0</td>\n",
       "      <td>NM</td>\n",
       "      <td>3.912023</td>\n",
       "    </tr>\n",
       "    <tr>\n",
       "      <th>2890787</th>\n",
       "      <td>CHEMBL2414998</td>\n",
       "      <td>P98170</td>\n",
       "      <td>40.0</td>\n",
       "      <td>NM</td>\n",
       "      <td>3.688879</td>\n",
       "    </tr>\n",
       "    <tr>\n",
       "      <th>3287092</th>\n",
       "      <td>CHEMBL183992</td>\n",
       "      <td>P98170</td>\n",
       "      <td>40.0</td>\n",
       "      <td>NM</td>\n",
       "      <td>3.688879</td>\n",
       "    </tr>\n",
       "    <tr>\n",
       "      <th>3460568</th>\n",
       "      <td>CHEMBL384327</td>\n",
       "      <td>P98170</td>\n",
       "      <td>38.0</td>\n",
       "      <td>NM</td>\n",
       "      <td>3.637586</td>\n",
       "    </tr>\n",
       "    <tr>\n",
       "      <th>3909769</th>\n",
       "      <td>CHEMBL187005</td>\n",
       "      <td>P98170</td>\n",
       "      <td>40.0</td>\n",
       "      <td>NM</td>\n",
       "      <td>3.688879</td>\n",
       "    </tr>\n",
       "    <tr>\n",
       "      <th>5417713</th>\n",
       "      <td>CHEMBL234346</td>\n",
       "      <td>P98170</td>\n",
       "      <td>40.0</td>\n",
       "      <td>NM</td>\n",
       "      <td>3.688879</td>\n",
       "    </tr>\n",
       "  </tbody>\n",
       "</table>\n",
       "</div>"
      ],
      "text/plain": [
       "           compound_id target_id  standard_value standard_units     KDlog\n",
       "234223    CHEMBL184046    P98170            40.0             NM  3.688879\n",
       "514972    CHEMBL360180    P98170            40.0             NM  3.688879\n",
       "645175    CHEMBL310987    P98170            38.0             NM  3.637586\n",
       "2305929   CHEMBL365676    P98170            50.0             NM  3.912023\n",
       "2890787  CHEMBL2414998    P98170            40.0             NM  3.688879\n",
       "3287092   CHEMBL183992    P98170            40.0             NM  3.688879\n",
       "3460568   CHEMBL384327    P98170            38.0             NM  3.637586\n",
       "3909769   CHEMBL187005    P98170            40.0             NM  3.688879\n",
       "5417713   CHEMBL234346    P98170            40.0             NM  3.688879"
      ]
     },
     "execution_count": 128,
     "metadata": {},
     "output_type": "execute_result"
    }
   ],
   "source": [
    "df_Kd[(df_Kd.target_id=='P98170')&(df_Kd.KDlog>3.5)&(df_Kd.KDlog<4)]"
   ]
  },
  {
   "cell_type": "markdown",
   "metadata": {},
   "source": [
    "# embedding NN (https://towardsdatascience.com/collaborative-filtering-with-fastai-3dbdd4ef4f00)"
   ]
  },
  {
   "cell_type": "code",
   "execution_count": 129,
   "metadata": {},
   "outputs": [],
   "source": [
    "Kd_NN = collab_learner(Kd_data, use_nn=True, \n",
    "                       emb_szs={'compound_id': 40, 'target_id':40}, layers=[256, 128], y_range=(-20, 30))"
   ]
  },
  {
   "cell_type": "code",
   "execution_count": 130,
   "metadata": {},
   "outputs": [
    {
     "name": "stdout",
     "output_type": "stream",
     "text": [
      "LR Finder is complete, type {learner_name}.recorder.plot() to see the graph.\n"
     ]
    }
   ],
   "source": [
    "Kd_NN.lr_find()"
   ]
  },
  {
   "cell_type": "code",
   "execution_count": 131,
   "metadata": {},
   "outputs": [
    {
     "data": {
      "image/png": "[encoded data removed]",
      "text/plain": [
       "<Figure size 432x288 with 1 Axes>"
      ]
     },
     "metadata": {
      "needs_background": "light"
     },
     "output_type": "display_data"
    }
   ],
   "source": [
    "Kd_NN.recorder.plot()"
   ]
  },
  {
   "cell_type": "code",
   "execution_count": 132,
   "metadata": {},
   "outputs": [
    {
     "data": {
      "text/html": [
       "Total time: 00:29 <p><table style='width:300px; margin-bottom:10px'>\n",
       "  <tr>\n",
       "    <th>epoch</th>\n",
       "    <th>train_loss</th>\n",
       "    <th>valid_loss</th>\n",
       "  </tr>\n",
       "  <tr>\n",
       "    <th>1</th>\n",
       "    <th>7.964258</th>\n",
       "    <th>7.109387</th>\n",
       "  </tr>\n",
       "  <tr>\n",
       "    <th>2</th>\n",
       "    <th>7.033829</th>\n",
       "    <th>6.966299</th>\n",
       "  </tr>\n",
       "  <tr>\n",
       "    <th>3</th>\n",
       "    <th>5.202913</th>\n",
       "    <th>6.021425</th>\n",
       "  </tr>\n",
       "  <tr>\n",
       "    <th>4</th>\n",
       "    <th>4.209516</th>\n",
       "    <th>5.755021</th>\n",
       "  </tr>\n",
       "  <tr>\n",
       "    <th>5</th>\n",
       "    <th>3.284643</th>\n",
       "    <th>5.495564</th>\n",
       "  </tr>\n",
       "  <tr>\n",
       "    <th>6</th>\n",
       "    <th>2.724728</th>\n",
       "    <th>5.272191</th>\n",
       "  </tr>\n",
       "  <tr>\n",
       "    <th>7</th>\n",
       "    <th>1.991817</th>\n",
       "    <th>5.073779</th>\n",
       "  </tr>\n",
       "  <tr>\n",
       "    <th>8</th>\n",
       "    <th>1.722644</th>\n",
       "    <th>5.067656</th>\n",
       "  </tr>\n",
       "  <tr>\n",
       "    <th>9</th>\n",
       "    <th>1.482349</th>\n",
       "    <th>5.069295</th>\n",
       "  </tr>\n",
       "  <tr>\n",
       "    <th>10</th>\n",
       "    <th>1.415197</th>\n",
       "    <th>4.989756</th>\n",
       "  </tr>\n",
       "</table>\n"
      ],
      "text/plain": [
       "<IPython.core.display.HTML object>"
      ]
     },
     "metadata": {},
     "output_type": "display_data"
    }
   ],
   "source": [
    "Kd_NN.fit_one_cycle(10, 1e-2)"
   ]
  },
  {
   "cell_type": "code",
   "execution_count": 133,
   "metadata": {},
   "outputs": [
    {
     "data": {
      "image/png": "[encoded data removed]",
      "text/plain": [
       "<Figure size 432x288 with 1 Axes>"
      ]
     },
     "metadata": {
      "needs_background": "light"
     },
     "output_type": "display_data"
    }
   ],
   "source": [
    "Kd_NN.recorder.plot_losses()"
   ]
  },
  {
   "cell_type": "code",
   "execution_count": 134,
   "metadata": {},
   "outputs": [
    {
     "data": {
      "text/html": [
       "<table>  <col width='10%'>  <col width='10%'>  <col width='10%'>  <col width='10%'>  <tr>\n",
       "    <th>compound_id</th>\n",
       "    <th>target_id</th>\n",
       "    <th>target</th>\n",
       "    <th>prediction</th>\n",
       "  </tr>\n",
       "  <tr>\n",
       "    <th>CHEMBL2024149</th>\n",
       "    <th>P0DMS8</th>\n",
       "    <th>-0.8278220891952515</th>\n",
       "    <th>3.9437103271484375</th>\n",
       "  </tr>\n",
       "  <tr>\n",
       "    <th>CHEMBL1544</th>\n",
       "    <th>P10827</th>\n",
       "    <th>-2.8473122119903564</th>\n",
       "    <th>-2.0686683654785156</th>\n",
       "  </tr>\n",
       "  <tr>\n",
       "    <th>#na#</th>\n",
       "    <th>P30968</th>\n",
       "    <th>0.0</th>\n",
       "    <th>0.21334075927734375</th>\n",
       "  </tr>\n",
       "  <tr>\n",
       "    <th>CHEMBL1721885</th>\n",
       "    <th>Q9Y4K4</th>\n",
       "    <th>5.703782558441162</th>\n",
       "    <th>4.924684524536133</th>\n",
       "  </tr>\n",
       "  <tr>\n",
       "    <th>CHEMBL522892</th>\n",
       "    <th>Q16513</th>\n",
       "    <th>9.200289726257324</th>\n",
       "    <th>7.825107574462891</th>\n",
       "  </tr>\n",
       "</table>\n"
      ],
      "text/plain": [
       "<IPython.core.display.HTML object>"
      ]
     },
     "metadata": {},
     "output_type": "display_data"
    }
   ],
   "source": [
    "Kd_NN.show_results()"
   ]
  },
  {
   "cell_type": "code",
   "execution_count": 136,
   "metadata": {},
   "outputs": [],
   "source": [
    "Kd_NN_preds = Kd_NN.get_preds()"
   ]
  },
  {
   "cell_type": "code",
   "execution_count": 137,
   "metadata": {},
   "outputs": [
    {
     "data": {
      "image/png": "[encoded data removed]",
      "text/plain": [
       "<Figure size 432x288 with 1 Axes>"
      ]
     },
     "metadata": {
      "needs_background": "light"
     },
     "output_type": "display_data"
    }
   ],
   "source": [
    "plt.scatter(Kd_NN_preds[0], Kd_NN_preds[1], alpha=0.02)\n",
    "plt.xlim([-10, 30])\n",
    "plt.ylim([-10, 30])\n",
    "plt.gca().set_aspect('equal')"
   ]
  },
  {
   "cell_type": "code",
   "execution_count": 142,
   "metadata": {},
   "outputs": [],
   "source": [
    "slope, intercept, r_value, p_value, std_err = stats.linregress(Kd_NN_preds[0].flatten(), Kd_NN_preds[1])"
   ]
  },
  {
   "cell_type": "code",
   "execution_count": 143,
   "metadata": {},
   "outputs": [
    {
     "data": {
      "text/plain": [
       "0.7533962542105362"
      ]
     },
     "execution_count": 143,
     "metadata": {},
     "output_type": "execute_result"
    }
   ],
   "source": [
    "r_value"
   ]
  },
  {
   "cell_type": "code",
   "execution_count": null,
   "metadata": {},
   "outputs": [],
   "source": []
  }
 ],
 "metadata": {
  "kernelspec": {
   "display_name": "Python 3",
   "language": "python",
   "name": "python3"
  },
  "language_info": {
   "codemirror_mode": {
    "name": "ipython",
    "version": 3
   },
   "file_extension": ".py",
   "mimetype": "text/x-python",
   "name": "python",
   "nbconvert_exporter": "python",
   "pygments_lexer": "ipython3",
   "version": "3.7.2"
  }
 },
 "nbformat": 4,
 "nbformat_minor": 2
}
